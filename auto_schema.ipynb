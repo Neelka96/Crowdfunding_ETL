{
 "cells": [
  {
   "cell_type": "code",
   "execution_count": 10,
   "metadata": {},
   "outputs": [],
   "source": [
    "import pandas as pd\n",
    "from pathlib import Path"
   ]
  },
  {
   "cell_type": "code",
   "execution_count": null,
   "metadata": {},
   "outputs": [],
   "source": [
    "class postgres_db:\n",
    "    def __init__(self, dir_path):\n",
    "        self.csv_paths = [file for file in Path(dir_path).glob('*')]\n",
    "        self.df_names = [path.stem for path in self.csv_paths]\n",
    "        self.df_map = {\n",
    "                name: {\n",
    "                    'DF': pd.read_csv(csv),\n",
    "                    'PK': None,\n",
    "                    'FK': []\n",
    "                }\n",
    "                for (name, csv) \n",
    "                    in zip(\n",
    "                        self.df_names\n",
    "                        ,self.csv_paths\n",
    "                    )\n",
    "        }\n",
    "        self.TypeMap = {\n",
    "            'int64': 'INT'\n",
    "            ,'float64': 'FLOAT'\n",
    "            ,'object': 'CHAR'\n",
    "        }\n",
    "\n",
    "    def Display_DFs(self):\n",
    "        for df in self.df_map.values():\n",
    "            yield df['DF']\n",
    "\n",
    "    def ERD_Write(self):\n",
    "        for key, df in self.df_map.items():\n",
    "            df = df['DF']\n",
    "            print(\n",
    "                f'{key}\\n' +\n",
    "                '-'\n",
    "            )\n",
    "            columns = [*df.columns]\n",
    "            for col in columns:\n",
    "                counts = df[col].astype(str).str.len()\n",
    "                min = counts.min()\n",
    "                max = counts.max()\n",
    "                _type = self.TypeMap[df[col].dtype.name]\n",
    "                if _type == 'CHAR':\n",
    "                    if min != max:\n",
    "                        _type = 'VARCHAR'\n",
    "                    print(f'{col} {_type}({max})')\n",
    "                else:\n",
    "                    print(f'{col} {_type}')\n",
    "            print()\n",
    "        return None\n",
    "    \n",
    "    def Schema_Write(self):\n",
    "        [\n",
    "            print(f'DROP TABLE IF EXISTS {table} CASCADE;') \n",
    "            for table in self.df_names\n",
    "        ]\n",
    "        print()\n",
    "        for key, df in self.df_map.items():\n",
    "            print(f'CREATE TABLE {key} (')\n",
    "            df = df['DF']\n",
    "            columns = [*df.columns]\n",
    "            for col in columns:\n",
    "                counts = df[col].astype(str).str.len()\n",
    "                min = counts.min()\n",
    "                max = counts.max()\n",
    "                _type = self.TypeMap[df[col].dtype.name]\n",
    "                if _type == 'CHAR':\n",
    "                    if min != max:\n",
    "                        _type = 'VARCHAR'\n",
    "                    print(f'    {col} {_type}({max})')\n",
    "                else:\n",
    "                    print(f'    {col} {_type}')\n",
    "            print(');\\n')\n",
    "        return None"
   ]
  },
  {
   "cell_type": "code",
   "execution_count": 192,
   "metadata": {},
   "outputs": [],
   "source": [
    "db = postgres_db('Resources/Output/')"
   ]
  },
  {
   "cell_type": "code",
   "execution_count": 199,
   "metadata": {},
   "outputs": [
    {
     "name": "stdout",
     "output_type": "stream",
     "text": [
      "contacts\n",
      "-\n",
      "contact_id INT\n",
      "first_name VARCHAR(12)\n",
      "last_name VARCHAR(13)\n",
      "email VARCHAR(42)\n",
      "\n",
      "subcategory\n",
      "-\n",
      "subcategory_id VARCHAR(8)\n",
      "subcategory VARCHAR(17)\n",
      "\n",
      "category\n",
      "-\n",
      "category_id CHAR(4)\n",
      "category VARCHAR(12)\n",
      "\n",
      "campaign\n",
      "-\n",
      "cf_id INT\n",
      "contact_id INT\n",
      "company_name VARCHAR(33)\n",
      "description VARCHAR(53)\n",
      "goal FLOAT\n",
      "pledged FLOAT\n",
      "outcome VARCHAR(10)\n",
      "backers_count INT\n",
      "country CHAR(2)\n",
      "currency CHAR(3)\n",
      "launch_date CHAR(10)\n",
      "end_date CHAR(10)\n",
      "category_id CHAR(4)\n",
      "subcategory_id VARCHAR(8)\n",
      "\n"
     ]
    }
   ],
   "source": [
    "db.ERD_Write()"
   ]
  },
  {
   "cell_type": "code",
   "execution_count": null,
   "metadata": {},
   "outputs": [],
   "source": []
  }
 ],
 "metadata": {
  "kernelspec": {
   "display_name": "base",
   "language": "python",
   "name": "python3"
  },
  "language_info": {
   "codemirror_mode": {
    "name": "ipython",
    "version": 3
   },
   "file_extension": ".py",
   "mimetype": "text/x-python",
   "name": "python",
   "nbconvert_exporter": "python",
   "pygments_lexer": "ipython3",
   "version": "3.12.2"
  }
 },
 "nbformat": 4,
 "nbformat_minor": 2
}
