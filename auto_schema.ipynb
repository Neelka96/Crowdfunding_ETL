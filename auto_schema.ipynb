{
 "cells": [
  {
   "cell_type": "code",
   "execution_count": 2,
   "metadata": {},
   "outputs": [],
   "source": [
    "import pandas as pd"
   ]
  },
  {
   "cell_type": "code",
   "execution_count": 1,
   "metadata": {},
   "outputs": [],
   "source": [
    "def schema_info(path_suffix: str, root = 'Resources/Outputs'):\n",
    "    type_map = {\n",
    "        'int64': 'INT'\n",
    "        ,'float64': 'DEC'\n",
    "        ,'object': 'CHAR'\n",
    "    }\n",
    "    path = f'{root}/{path_suffix}.csv'\n",
    "    df = pd.read_csv(path)\n",
    "    \n",
    "    return_list = []\n",
    "    columns = [*df.columns]\n",
    "    for col in columns:\n",
    "        counts = df[col].astype(str).str.len()\n",
    "        min = counts.min()\n",
    "        max = counts.max()\n",
    "        _type = type_map[df[col].dtype.name]\n",
    "        if _type == 'CHAR':\n",
    "            if min != max:\n",
    "                _type = 'VARCHAR'\n",
    "            return_list.append(f'{col} {_type}({max})')\n",
    "        else:\n",
    "            return_list.append(f'{col} {_type}')\n",
    "    return return_list"
   ]
  },
  {
   "cell_type": "code",
   "execution_count": 4,
   "metadata": {},
   "outputs": [
    {
     "name": "stdout",
     "output_type": "stream",
     "text": [
      "cf_id INT\n",
      "contact_id INT\n",
      "company_name VARCHAR(33)\n",
      "description VARCHAR(53)\n",
      "goal DEC\n",
      "pledged DEC\n",
      "outcome VARCHAR(10)\n",
      "backers_count INT\n",
      "country CHAR(2)\n",
      "currency CHAR(3)\n",
      "launch_date CHAR(10)\n",
      "end_date CHAR(10)\n",
      "category_id CHAR(4)\n",
      "subcategory_id VARCHAR(8)\n"
     ]
    },
    {
     "data": {
      "text/plain": [
       "[None,\n",
       " None,\n",
       " None,\n",
       " None,\n",
       " None,\n",
       " None,\n",
       " None,\n",
       " None,\n",
       " None,\n",
       " None,\n",
       " None,\n",
       " None,\n",
       " None,\n",
       " None]"
      ]
     },
     "execution_count": 4,
     "metadata": {},
     "output_type": "execute_result"
    }
   ],
   "source": [
    "schema_campaign = schema_info('campaign')\n",
    "[print(col) for col in schema_campaign]"
   ]
  },
  {
   "cell_type": "markdown",
   "metadata": {},
   "source": [
    "## Full Schema Writing"
   ]
  },
  {
   "cell_type": "code",
   "execution_count": 5,
   "metadata": {},
   "outputs": [
    {
     "name": "stdout",
     "output_type": "stream",
     "text": [
      "campaign\n",
      "-\n",
      "cf_id INT\n",
      "contact_id INT\n",
      "company_name VARCHAR(33)\n",
      "description VARCHAR(53)\n",
      "goal DEC\n",
      "pledged DEC\n",
      "outcome VARCHAR(10)\n",
      "backers_count INT\n",
      "country CHAR(2)\n",
      "currency CHAR(3)\n",
      "launch_date CHAR(10)\n",
      "end_date CHAR(10)\n",
      "category_id CHAR(4)\n",
      "subcategory_id VARCHAR(8)\n",
      "\n",
      "\n",
      "contacts\n",
      "-\n",
      "contact_id INT\n",
      "first_name VARCHAR(12)\n",
      "last_name VARCHAR(13)\n",
      "email VARCHAR(42)\n",
      "\n",
      "\n",
      "category\n",
      "-\n",
      "category_id CHAR(4)\n",
      "category VARCHAR(12)\n",
      "\n",
      "\n",
      "subcategory\n",
      "-\n",
      "subcategory_id VARCHAR(8)\n",
      "subcategory VARCHAR(17)\n",
      "\n",
      "\n"
     ]
    }
   ],
   "source": [
    "tables = ['campaign', 'contacts', 'category', 'subcategory']\n",
    "\n",
    "for table in tables:\n",
    "    schema = schema_info(table)\n",
    "    print(\n",
    "        f'{table}\\n-')\n",
    "    [print(col) for col in schema]\n",
    "    print('\\n')"
   ]
  }
 ],
 "metadata": {
  "kernelspec": {
   "display_name": "base",
   "language": "python",
   "name": "python3"
  },
  "language_info": {
   "codemirror_mode": {
    "name": "ipython",
    "version": 3
   },
   "file_extension": ".py",
   "mimetype": "text/x-python",
   "name": "python",
   "nbconvert_exporter": "python",
   "pygments_lexer": "ipython3",
   "version": "3.12.2"
  }
 },
 "nbformat": 4,
 "nbformat_minor": 2
}
