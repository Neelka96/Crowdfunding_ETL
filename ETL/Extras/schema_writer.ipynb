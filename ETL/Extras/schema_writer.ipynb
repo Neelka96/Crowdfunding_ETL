{
 "cells": [
  {
   "cell_type": "markdown",
   "metadata": {},
   "source": [
    "# Auto Schema Writer"
   ]
  },
  {
   "cell_type": "markdown",
   "metadata": {},
   "source": [
    "---"
   ]
  },
  {
   "cell_type": "markdown",
   "metadata": {},
   "source": [
    "The purpose of this Notebook is to automate the tedious process of writing the code for the Entity Relationship Diagram and the PostgreSQL schema creation. This is all to fulfill the requirements of the Project 2 Crowdfunding_ETL assignment, as a more streamlined way of doing so all in one file would be with SQL Alchemy as opposed to creating text output to be copy and pasted!"
   ]
  },
  {
   "cell_type": "code",
   "execution_count": 102,
   "metadata": {},
   "outputs": [],
   "source": [
    "from pathlib import Path\n",
    "import pandas as pd"
   ]
  },
  {
   "cell_type": "markdown",
   "metadata": {},
   "source": [
    "## f(x): Schema Writer\n",
    "---\n",
    "A generator function that is used to read the new CSV files and return schemas for each one.  \n",
    "Can be used to create both the ERD code for QuickDraw or for the PostgreSQL schema creation itself.  \n",
    "\n",
    "The results returned are simply to help ensure integrity in the results transferred to pgAdmin 4, as opposed to less calculated methods.  \n",
    "After copying and pasting only slight modifications and Primary/Foreign Key constraints are required."
   ]
  },
  {
   "cell_type": "code",
   "execution_count": 103,
   "metadata": {},
   "outputs": [],
   "source": [
    "def schema_info(\n",
    "        path_suffix: str\n",
    "        ,start: int = None\n",
    "        ,stop: int = None\n",
    "        ,root: str = '../../Resources/Output'\n",
    "    ):\n",
    "    type_map = {\n",
    "        'int64': 'INT'\n",
    "        ,'float64': 'DEC'\n",
    "        ,'object': 'CHAR'\n",
    "    }\n",
    "    path = f'{root}/{path_suffix}.csv'\n",
    "    df = pd.read_csv(path)\n",
    "\n",
    "    columns = [*df.columns]\n",
    "    for col in columns[start:stop]:\n",
    "        counts = df[col].astype(str).str.len()\n",
    "        min = counts.min()\n",
    "        max = counts.max()\n",
    "        _type = type_map[df[col].dtype.name]\n",
    "        if _type == 'CHAR':\n",
    "            if min != max:\n",
    "                _type = 'VARCHAR'\n",
    "            result = f'{col} {_type}({max})'\n",
    "        else:\n",
    "            result = f'{col} {_type}'\n",
    "        yield result"
   ]
  },
  {
   "cell_type": "markdown",
   "metadata": {},
   "source": [
    "### ERD Code for Quick Draw"
   ]
  },
  {
   "cell_type": "code",
   "execution_count": 104,
   "metadata": {},
   "outputs": [
    {
     "name": "stdout",
     "output_type": "stream",
     "text": [
      "campaign\n",
      "-\n",
      "cf_id INT\n",
      "contact_id INT\n",
      "company_name VARCHAR(33)\n",
      "description VARCHAR(53)\n",
      "goal DEC\n",
      "pledged DEC\n",
      "outcome VARCHAR(10)\n",
      "backers_count INT\n",
      "country CHAR(2)\n",
      "currency CHAR(3)\n",
      "launch_date CHAR(10)\n",
      "end_date CHAR(10)\n",
      "category_id CHAR(4)\n",
      "subcategory_id VARCHAR(8)\n",
      "\n",
      "contacts\n",
      "-\n",
      "contact_id INT\n",
      "first_name VARCHAR(12)\n",
      "last_name VARCHAR(13)\n",
      "email VARCHAR(42)\n",
      "\n",
      "category\n",
      "-\n",
      "category_id CHAR(4)\n",
      "category VARCHAR(12)\n",
      "\n",
      "subcategory\n",
      "-\n",
      "subcategory_id VARCHAR(8)\n",
      "subcategory VARCHAR(17)\n",
      "\n"
     ]
    }
   ],
   "source": [
    "csv_files = ['campaign', 'contacts', 'category', 'subcategory']\n",
    "\n",
    "for csv in csv_files:\n",
    "    print(\n",
    "        f'{csv}\\n' +\n",
    "        '-'\n",
    "    )\n",
    "    for col in schema_info(csv):\n",
    "        print(col)\n",
    "    print()"
   ]
  },
  {
   "cell_type": "markdown",
   "metadata": {},
   "source": [
    "### PostgreSQL Schema Code"
   ]
  },
  {
   "cell_type": "code",
   "execution_count": null,
   "metadata": {},
   "outputs": [
    {
     "name": "stdout",
     "output_type": "stream",
     "text": [
      "-- Schema Creation and Validation\n",
      "\n",
      "DROP TABLE IF EXISTS contacts CASCADE;\n",
      "DROP TABLE IF EXISTS category CASCADE;\n",
      "DROP TABLE IF EXISTS subcategory CASCADE;\n",
      "DROP TABLE IF EXISTS campaign CASCADE;\n",
      "\n",
      "CREATE TABLE contacts (\n",
      "    contact_id INT\n",
      "    ,first_name VARCHAR(12) NOT NULL\n",
      "    ,last_name VARCHAR(13) NOT NULL\n",
      "    ,email VARCHAR(42) NOT NULL\n",
      ");\n",
      "\n",
      "SELECT * FROM contacts;\n",
      "\n",
      "\n",
      "CREATE TABLE category (\n",
      "    category_id CHAR(4)\n",
      "    ,category VARCHAR(12) NOT NULL\n",
      ");\n",
      "\n",
      "SELECT * FROM category;\n",
      "\n",
      "\n",
      "CREATE TABLE subcategory (\n",
      "    subcategory_id VARCHAR(8)\n",
      "    ,subcategory VARCHAR(17) NOT NULL\n",
      ");\n",
      "\n",
      "SELECT * FROM subcategory;\n",
      "\n",
      "\n",
      "CREATE TABLE campaign (\n",
      "    cf_id INT\n",
      "    ,contact_id INT \n",
      "    ,company_name VARCHAR(33) NOT NULL\n",
      "    ,description VARCHAR(53) \n",
      "    ,goal DEC NOT NULL\n",
      "    ,pledged DEC NOT NULL\n",
      "    ,outcome VARCHAR(10) NOT NULL\n",
      "    ,backers_count INT NOT NULL\n",
      "    ,country CHAR(2) NOT NULL\n",
      "    ,currency CHAR(3) NOT NULL\n",
      "    ,launch_date CHAR(10) NOT NULL\n",
      "    ,end_date CHAR(10) \n",
      "    ,category_id CHAR(4) \n",
      "    ,subcategory_id VARCHAR(8) \n",
      ");\n",
      "\n",
      "SELECT * FROM campaign;\n",
      "\n",
      "\n",
      "\n",
      "-- CSV Import Validation\n",
      "\n",
      "SELECT * FROM contacts;\n",
      "SELECT * FROM category;\n",
      "SELECT * FROM subcategory;\n",
      "SELECT * FROM campaign;\n",
      "\n"
     ]
    }
   ],
   "source": [
    "csv_files = ['contacts', 'category', 'subcategory', 'campaign']\n",
    "\n",
    "print('-- Schema Creation and Validation\\n')\n",
    "[\n",
    "    print(f'DROP TABLE IF EXISTS {csv} CASCADE;') \n",
    "    for csv in csv_files\n",
    "]\n",
    "\n",
    "print()\n",
    "for csv in csv_files:\n",
    "    print(\n",
    "        f'CREATE TABLE {csv} (\\n' +\n",
    "        f'    {next(schema_info(csv))}'\n",
    "    )\n",
    "    for col in schema_info(csv, 1):\n",
    "        constr = ''\n",
    "        cond1 = col.find('end_date') != -1\n",
    "        cond2 = col.find('description') != -1\n",
    "        cond3 = col.find('id') == -1\n",
    "        if cond1 or cond2:\n",
    "            pass\n",
    "        elif cond3: \n",
    "            constr = 'NOT NULL'\n",
    "        print(f'    ,{col} {constr}')\n",
    "    print(\n",
    "        ');\\n\\n' +\n",
    "        f'SELECT * FROM {csv};\\n\\n'\n",
    "    )\n",
    "\n",
    "print('\\n-- CSV Import Validation\\n')\n",
    "[print(f'SELECT * FROM {csv};') for csv in csv_files]\n",
    "print()"
   ]
  },
  {
   "cell_type": "markdown",
   "metadata": {},
   "source": [
    "---"
   ]
  },
  {
   "cell_type": "markdown",
   "metadata": {},
   "source": [
    "---"
   ]
  },
  {
   "cell_type": "markdown",
   "metadata": {},
   "source": [
    "## f(x): CSV Import Writer\n",
    "When used, generates statements in SQL that can be copied and pasted into a `.sql` file in the `crowdfunding_db` after cloning repository.  \n",
    "Must be run after after `schema_info()` has been utilized to create a schema and added to `crowdfunding_db` as well."
   ]
  },
  {
   "cell_type": "code",
   "execution_count": 106,
   "metadata": {},
   "outputs": [],
   "source": [
    "def import_info(sortBy: list, parent_path: str = '../../Resources/Output'):\n",
    "    dir_path = sorted(\n",
    "        [*Path(parent_path).resolve().iterdir()]\n",
    "        ,key = lambda path: sortBy.index(path.stem)\n",
    "    )\n",
    "    for count, csv in enumerate(dir_path, 1):\n",
    "        result = (\n",
    "            f\"-- ({count})\\n\" +\n",
    "            \"COPY\\n\" +\n",
    "            f\"    {csv.stem}\\n\" +\n",
    "            \"FROM\\n\" +\n",
    "            f\"    '{csv}'\\n\" +\n",
    "            \"DELIMITER ',' CSV HEADER;\\n\"\n",
    "        )\n",
    "        yield result"
   ]
  },
  {
   "cell_type": "markdown",
   "metadata": {},
   "source": [
    "### PostgreSQL Import Code"
   ]
  },
  {
   "cell_type": "code",
   "execution_count": 117,
   "metadata": {},
   "outputs": [
    {
     "name": "stdout",
     "output_type": "stream",
     "text": [
      "-- (1)\n",
      "COPY\n",
      "    contacts\n",
      "FROM\n",
      "    '/Users/neelagarwal/Projects/DataClassRepos/Crowdfunding_ETL/Resources/Output/contacts.csv'\n",
      "DELIMITER ',' CSV HEADER;\n",
      "\n"
     ]
    }
   ],
   "source": [
    "csv_files = ['contacts', 'category', 'subcategory', 'campaign']\n",
    "db_import_lines = [sql_stmt for sql_stmt in import_info(sortBy = csv_files)]\n",
    "print(db_import_lines[0])"
   ]
  },
  {
   "cell_type": "code",
   "execution_count": 113,
   "metadata": {},
   "outputs": [],
   "source": [
    "# with open('crowdfunding_db_import.sql', 'w') as sql:"
   ]
  },
  {
   "cell_type": "code",
   "execution_count": null,
   "metadata": {},
   "outputs": [],
   "source": []
  }
 ],
 "metadata": {
  "kernelspec": {
   "display_name": "base",
   "language": "python",
   "name": "python3"
  },
  "language_info": {
   "codemirror_mode": {
    "name": "ipython",
    "version": 3
   },
   "file_extension": ".py",
   "mimetype": "text/x-python",
   "name": "python",
   "nbconvert_exporter": "python",
   "pygments_lexer": "ipython3",
   "version": "3.12.2"
  }
 },
 "nbformat": 4,
 "nbformat_minor": 2
}
