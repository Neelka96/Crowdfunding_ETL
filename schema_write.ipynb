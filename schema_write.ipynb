{
 "cells": [
  {
   "cell_type": "code",
   "execution_count": 18,
   "metadata": {},
   "outputs": [],
   "source": [
    "import pandas as pd"
   ]
  },
  {
   "cell_type": "code",
   "execution_count": null,
   "metadata": {},
   "outputs": [],
   "source": [
    "def schema_info(\n",
    "        path_suffix: str\n",
    "        ,start: int = None\n",
    "        ,stop: int = None\n",
    "        ,root: str = 'Resources/Output'\n",
    "    ):\n",
    "    type_map = {\n",
    "        'int64': 'INT'\n",
    "        ,'float64': 'FLOAT'\n",
    "        ,'object': 'CHAR'\n",
    "    }\n",
    "    path = f'{root}/{path_suffix}.csv'\n",
    "    df = pd.read_csv(path)\n",
    "\n",
    "    columns = [*df.columns]\n",
    "    for col in columns[start:stop]:\n",
    "        counts = df[col].astype(str).str.len()\n",
    "        min = counts.min()\n",
    "        max = counts.max()\n",
    "        _type = type_map[df[col].dtype.name]\n",
    "        if _type == 'CHAR':\n",
    "            if min != max:\n",
    "                _type = 'VARCHAR'\n",
    "            result = f'{col} {_type}({max})'\n",
    "        else:\n",
    "            result = f'{col} {_type}'\n",
    "        yield result"
   ]
  },
  {
   "cell_type": "code",
   "execution_count": 24,
   "metadata": {},
   "outputs": [
    {
     "name": "stdout",
     "output_type": "stream",
     "text": [
      "campaign\n",
      "-\n",
      "cf_id INT\n",
      "contact_id INT\n",
      "company_name VARCHAR(33)\n",
      "description VARCHAR(53)\n",
      "goal FLOAT\n",
      "pledged FLOAT\n",
      "outcome VARCHAR(10)\n",
      "backers_count INT\n",
      "country CHAR(2)\n",
      "currency CHAR(3)\n",
      "launch_date CHAR(10)\n",
      "end_date CHAR(10)\n",
      "category_id CHAR(4)\n",
      "subcategory_id VARCHAR(8)\n",
      "\n",
      "contacts\n",
      "-\n",
      "contact_id INT\n",
      "first_name VARCHAR(12)\n",
      "last_name VARCHAR(13)\n",
      "email VARCHAR(42)\n",
      "\n",
      "category\n",
      "-\n",
      "category_id CHAR(4)\n",
      "category VARCHAR(12)\n",
      "\n",
      "subcategory\n",
      "-\n",
      "subcategory_id VARCHAR(8)\n",
      "subcategory VARCHAR(17)\n",
      "\n"
     ]
    }
   ],
   "source": [
    "csv_files = ['campaign', 'contacts', 'category', 'subcategory']\n",
    "\n",
    "for csv in csv_files:\n",
    "    print(\n",
    "        f'{csv}\\n' +\n",
    "        '-'\n",
    "    )\n",
    "    for col in schema_info(csv):\n",
    "        print(col)\n",
    "    print()"
   ]
  },
  {
   "cell_type": "code",
   "execution_count": 32,
   "metadata": {},
   "outputs": [
    {
     "name": "stdout",
     "output_type": "stream",
     "text": [
      "DROP TABLE IF EXISTS contacts CASCADE;\n",
      "DROP TABLE IF EXISTS category CASCADE;\n",
      "DROP TABLE IF EXISTS subcategory CASCADE;\n",
      "DROP TABLE IF EXISTS campaign CASCADE;\n",
      "\n",
      "CREATE TABLE contacts (\n",
      "    contact_id INT\n",
      "    ,first_name VARCHAR(12) NOT NULL\n",
      "    ,last_name VARCHAR(13) NOT NULL\n",
      "    ,email VARCHAR(42) NOT NULL\n",
      ");\n",
      "\n",
      "CREATE TABLE category (\n",
      "    category_id CHAR(4)\n",
      "    ,category VARCHAR(12) NOT NULL\n",
      ");\n",
      "\n",
      "CREATE TABLE subcategory (\n",
      "    subcategory_id VARCHAR(8)\n",
      "    ,subcategory VARCHAR(17) NOT NULL\n",
      ");\n",
      "\n",
      "CREATE TABLE campaign (\n",
      "    cf_id INT\n",
      "    ,contact_id INT \n",
      "    ,company_name VARCHAR(33) NOT NULL\n",
      "    ,description VARCHAR(53) NOT NULL\n",
      "    ,goal FLOAT NOT NULL\n",
      "    ,pledged FLOAT NOT NULL\n",
      "    ,outcome VARCHAR(10) NOT NULL\n",
      "    ,backers_count INT NOT NULL\n",
      "    ,country CHAR(2) NOT NULL\n",
      "    ,currency CHAR(3) NOT NULL\n",
      "    ,launch_date CHAR(10) NOT NULL\n",
      "    ,end_date CHAR(10) NOT NULL\n",
      "    ,category_id CHAR(4) \n",
      "    ,subcategory_id VARCHAR(8) \n",
      ");\n",
      "\n"
     ]
    }
   ],
   "source": [
    "csv_files = ['contacts', 'category', 'subcategory', 'campaign']\n",
    "\n",
    "[\n",
    "    print(f'DROP TABLE IF EXISTS {csv} CASCADE;') \n",
    "    for csv in csv_files\n",
    "]\n",
    "\n",
    "print()\n",
    "for csv in csv_files:\n",
    "    print(\n",
    "        f'CREATE TABLE {csv} (\\n' +\n",
    "        f'    {next(schema_info(csv))}'\n",
    "    )\n",
    "    for col in schema_info(csv, 1):\n",
    "        constr = ''\n",
    "        if col.find('id') == -1: constr = 'NOT NULL'\n",
    "        print(f'    ,{col} {constr}')\n",
    "    print(');\\n')"
   ]
  }
 ],
 "metadata": {
  "kernelspec": {
   "display_name": "base",
   "language": "python",
   "name": "python3"
  },
  "language_info": {
   "codemirror_mode": {
    "name": "ipython",
    "version": 3
   },
   "file_extension": ".py",
   "mimetype": "text/x-python",
   "name": "python",
   "nbconvert_exporter": "python",
   "pygments_lexer": "ipython3",
   "version": "3.12.2"
  }
 },
 "nbformat": 4,
 "nbformat_minor": 2
}
